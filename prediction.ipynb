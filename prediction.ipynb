{
 "cells": [
  {
   "attachments": {},
   "cell_type": "markdown",
   "metadata": {},
   "source": [
    "# Prediction on any song in the Database with prelearned XG-Boost"
   ]
  },
  {
   "cell_type": "code",
   "execution_count": 76,
   "metadata": {},
   "outputs": [],
   "source": [
    "# Import Libraries:\n",
    "import pandas as pd\n",
    "import numpy as np\n",
    "import librosa\n",
    "import warnings\n",
    "warnings.filterwarnings('ignore')\n",
    "\n",
    "import xgboost"
   ]
  },
  {
   "cell_type": "code",
   "execution_count": 112,
   "metadata": {},
   "outputs": [],
   "source": [
    "genres = [\"blues\", \"classical\", \"country\", \"disco\", \"hiphop\", \"jazz\", \"metal\", \"pop\", \"reggae\", \"rock\"]\n",
    "my_dict = dict(zip(range(len(genres)),genres)) # Create Dictionary to map genres to numbers of the algorithm"
   ]
  },
  {
   "attachments": {},
   "cell_type": "markdown",
   "metadata": {},
   "source": [
    "# Insert Filename and Directory here:"
   ]
  },
  {
   "cell_type": "code",
   "execution_count": 3,
   "metadata": {},
   "outputs": [],
   "source": [
    "# filename = 'genres_original/jazz/jazz.00027.wav' #for files from GTZAN\n",
    "#filename = 'Bruce Springsteen - 06 - Empty Sky.mp3' # for files from Data\n",
    "#filename = 'Christina Aguilera - 11 - Beautiful .mp3'\n",
    "#filename = 'Kylie Minogue - Fever - 04 - Fever.mp3'\n",
    "#filename = 'nelly furtado - powerless.mp3'\n",
    "#filename = 'atomic_kitten-ladies_night.mp3'\n",
    "#filename = 'Linkin Park - Points Of Authority(jay_gordon_remix).mp3'\n",
    "filename = 'Red Hot Chili Peppers - By The Way.mp3'\n",
    "filedir = 'Data/' + filename"
   ]
  },
  {
   "attachments": {},
   "cell_type": "markdown",
   "metadata": {},
   "source": [
    "## Feature Extraction of the Song"
   ]
  },
  {
   "cell_type": "code",
   "execution_count": 122,
   "metadata": {},
   "outputs": [],
   "source": [
    "# Extract Features and saves as dataframe\n",
    "\n",
    "def extrackt(filedir, filename, genre):\n",
    "    offset = 0\n",
    "    duration=3\n",
    "    go = True\n",
    "    i=0\n",
    "    csv = []\n",
    "    length = 0\n",
    "    length_audio = librosa.get_duration(filename = filedir)\n",
    "    offset = length_audio/4\n",
    "    end = length_audio*3/4\n",
    "    \n",
    "    while(go):\n",
    "        y, sr = librosa.load(filedir, offset=offset, duration=duration)\n",
    "        if (length != len(y) and length !=0) or (offset + duration) >= end:\n",
    "            i=0\n",
    "            break\n",
    "        length = len(y)\n",
    "        offset += duration\n",
    "        \n",
    "        #________ chroma_stft _______\n",
    "        chroma_stft = librosa.feature.chroma_stft(y=y, sr=sr)\n",
    "        chroma_stft_mean = np.mean(chroma_stft)\n",
    "        chroma_stft_var = np.var(chroma_stft)\n",
    "        #______rms _____\n",
    "        rms =  librosa.feature.rms(y=y)\n",
    "        rms_mean = np.mean(rms)\n",
    "        rms_var = np.var(rms)\n",
    "        #______spectral_centroid _____\n",
    "        spectral_centroid = librosa.feature.spectral_centroid(y=y, sr=sr)\n",
    "        spectral_centroid_mean = np.mean(spectral_centroid)\n",
    "        spectral_centroid_var = np.var(spectral_centroid)\n",
    "        #______spectral_bandwidth______\n",
    "        spectral_bandwidth = librosa.feature.spectral_bandwidth(y=y, sr=sr)\n",
    "        spectral_bandwidth_mean = np.mean(spectral_bandwidth)\n",
    "        spectral_bandwidth_var = np.var(spectral_bandwidth)\n",
    "        #_____rolloff_______\n",
    "        rolloff = librosa.feature.spectral_rolloff(y=y, sr=sr)\n",
    "        rolloff_mean = np.mean(rolloff)\n",
    "        rolloff_var = np.var(rolloff)\n",
    "        #_____zero_crossing_rate______\n",
    "        zero_crossing_rate = librosa.feature.zero_crossing_rate(y)\n",
    "        zero_crossing_rate_mean = np.mean(zero_crossing_rate)\n",
    "        zero_crossing_rate_var = np.var(zero_crossing_rate)\n",
    "        #_____harmony_____\n",
    "        harmony = librosa.effects.harmonic(y)\n",
    "        harmony_mean = np.mean(harmony)\n",
    "        harmony_var = np.var(harmony)\n",
    "        #_____perceptr____\n",
    "        C = np.abs(librosa.cqt(y, sr=sr, fmin=librosa.note_to_hz('A1')))\n",
    "        freqs = librosa.cqt_frequencies(C.shape[0], fmin=librosa.note_to_hz('A1'))\n",
    "        perceptr = librosa.perceptual_weighting(C**2, freqs, ref=np.max)\n",
    "        perceptr_mean = np.mean(perceptr)\n",
    "        perceptr_var = np.var(perceptr)\n",
    "        #_____tempo______\n",
    "        onset_env = librosa.onset.onset_strength(y=y, sr=sr)\n",
    "        tempo = librosa.beat.tempo(onset_envelope=onset_env, sr=sr)[0]\n",
    "        #_____mfcc______\n",
    "        mfcc = librosa.feature.mfcc(y=y, sr=sr)\n",
    "        mdict = {\"name\":filename,\n",
    "                \"name_v\":filename+\".\"+str(i),\n",
    "                \"filedir\":filedir,\n",
    "                \"genre\":genre,\n",
    "                \"start\":offset-duration,\n",
    "                \"length\":length,\n",
    "                \"chroma_stft_mean\" : chroma_stft_mean,\n",
    "                \"chroma_stft_var\":chroma_stft_var,\n",
    "                \"rms_mean\": rms_mean,\n",
    "                \"rms_var\":rms_var,\n",
    "                \"spectral_centroid_mean\": spectral_centroid_mean,\n",
    "                \"spectral_centroid_var\" : spectral_centroid_var,\n",
    "                \"spectral_bandwidth_mean\":spectral_bandwidth_mean,\n",
    "                \"spectral_bandwidth_var\": spectral_bandwidth_var, \n",
    "                \"rolloff_mean\" : rolloff_mean,\n",
    "                \"rolloff_var\": rolloff_var ,\n",
    "                \"zero_crossing_rate_mean\" : zero_crossing_rate_mean,\n",
    "                \"zero_crossing_rate_var\":zero_crossing_rate_var,\n",
    "                \"harmony_mean\":harmony_mean,\n",
    "                \"harmony_var\":harmony_var,\n",
    "                \"perceptr_mean\":perceptr_mean,\n",
    "                \"perceptr_var\":perceptr_var,\n",
    "                \"tempo\":tempo,}\n",
    "        \n",
    "        for index, a in enumerate(mfcc, start = 1):\n",
    "            mdict[\"mfcc\"+str(index)+\"_mean\"] = np.mean(a)\n",
    "            mdict[\"mfcc\"+str(index)+\"_var\"] = np.var(a)\n",
    "            \n",
    "        csv.append(mdict)\n",
    "        i+=1\n",
    "    return csv\n",
    "    \n",
    "df = pd.DataFrame(extrackt(filedir, \"own_song\", \"unknown\"))\n",
    "data = df.iloc[0:, 5:] "
   ]
  },
  {
   "cell_type": "code",
   "execution_count": 123,
   "metadata": {},
   "outputs": [],
   "source": [
    "# Load XGBoost Model \n",
    "xgb = xgboost.XGBClassifier()\n",
    "xgb.load_model(\"xgb_model.txt\")\n",
    "preds = xgb.predict(data) # Make Prediction\n",
    "proba= xgb.predict_proba(data) #get Probabilities"
   ]
  },
  {
   "cell_type": "code",
   "execution_count": 173,
   "metadata": {},
   "outputs": [
    {
     "data": {
      "image/png": "[encoded data removed]",
      "text/plain": [
       "<Figure size 1440x720 with 1 Axes>"
      ]
     },
     "metadata": {
      "needs_background": "light"
     },
     "output_type": "display_data"
    }
   ],
   "source": [
    "# Sort time and prediction\n",
    "import matplotlib.pyplot as plt\n",
    "import matplotlib.dates as mdates\n",
    "start = df['start']\n",
    "fig, ax = plt.subplots()\n",
    "fig.set_size_inches(20,10)\n",
    "plt.xlabel(\"Time [min]\")\n",
    "plt.ylabel(\"Genres\")\n",
    "prediction_label=[]\n",
    "for i in range(len(preds)):\n",
    "    prediction_label.append(my_dict[preds[i]])\n",
    "time = pd.to_datetime(start, unit='s').dt.strftime('%M:%S')\n",
    "plt.xticks(rotation=-45)\n",
    "ax.scatter(time, prediction_label, linewidth=2.0)\n",
    "plt.show()"
   ]
  },
  {
   "cell_type": "code",
   "execution_count": 84,
   "metadata": {},
   "outputs": [
    {
     "name": "stdout",
     "output_type": "stream",
     "text": [
      "Prediction  0 :  metal  with Probabilities: 96.5 % (metal),  2.2 % (rock)\n",
      "Prediction  1 :  metal  with Probabilities: 52.1 % (metal),  43.1 % (rock)\n",
      "Prediction  2 :  metal  with Probabilities: 91.4 % (metal),  8.0 % (rock)\n",
      "Prediction  3 :  metal  with Probabilities: 86.5 % (metal),  7.8 % (disco)\n",
      "Prediction  4 :  disco  with Probabilities: 35.5 % (disco),  23.1 % (country)\n",
      "Prediction  5 :  metal  with Probabilities: 59.9 % (metal),  34.8 % (country)\n",
      "Prediction  6 :  metal  with Probabilities: 60.7 % (metal),  20.7 % (country)\n",
      "Prediction  7 :  metal  with Probabilities: 98.9 % (metal),  0.6 % (rock)\n",
      "Prediction  8 :  disco  with Probabilities: 44.7 % (disco),  17.3 % (pop)\n",
      "Prediction  9 :  metal  with Probabilities: 53.7 % (metal),  28.5 % (rock)\n",
      "Prediction  10 :  metal  with Probabilities: 73.3 % (metal),  12.8 % (rock)\n",
      "Prediction  11 :  metal  with Probabilities: 93.9 % (metal),  5.8 % (rock)\n",
      "Prediction  12 :  metal  with Probabilities: 59.7 % (metal),  27.8 % (rock)\n",
      "Prediction  13 :  metal  with Probabilities: 96.8 % (metal),  2.9 % (rock)\n",
      "Prediction  14 :  metal  with Probabilities: 96.5 % (metal),  1.8 % (rock)\n",
      "Prediction  15 :  metal  with Probabilities: 68.9 % (metal),  27.6 % (rock)\n",
      "Prediction  16 :  metal  with Probabilities: 99.7 % (metal),  0.1 % (rock)\n",
      "Prediction  17 :  metal  with Probabilities: 99.6 % (metal),  0.3 % (rock)\n",
      "Prediction  18 :  country  with Probabilities: 97.9 % (country),  1.6 % (disco)\n",
      "Prediction  19 :  country  with Probabilities: 99.0 % (country),  0.9 % (rock)\n",
      "Prediction  20 :  country  with Probabilities: 95.4 % (country),  4.1 % (rock)\n",
      "Prediction  21 :  country  with Probabilities: 99.8 % (country),  0.2 % (rock)\n",
      "Prediction  22 :  country  with Probabilities: 97.5 % (country),  2.4 % (rock)\n",
      "Prediction  23 :  country  with Probabilities: 95.1 % (country),  4.0 % (disco)\n",
      "Prediction  24 :  country  with Probabilities: 98.7 % (country),  1.2 % (disco)\n",
      "Prediction  25 :  country  with Probabilities: 94.3 % (country),  4.2 % (disco)\n",
      "Prediction  26 :  country  with Probabilities: 91.6 % (country),  4.2 % (disco)\n",
      "Prediction  27 :  country  with Probabilities: 92.4 % (country),  6.2 % (rock)\n",
      "Prediction  28 :  country  with Probabilities: 92.8 % (country),  3.9 % (disco)\n",
      "Prediction  29 :  rock  with Probabilities: 50.5 % (rock),  47.8 % (disco)\n",
      "Prediction  30 :  rock  with Probabilities: 97.2 % (rock),  1.7 % (metal)\n",
      "Prediction  31 :  metal  with Probabilities: 81.4 % (metal),  11.3 % (rock)\n",
      "Prediction  32 :  metal  with Probabilities: 99.9 % (metal),  0.0 % (rock)\n",
      "Prediction  33 :  metal  with Probabilities: 98.2 % (metal),  1.6 % (rock)\n",
      "Prediction  34 :  metal  with Probabilities: 99.4 % (metal),  0.5 % (rock)\n",
      "Prediction  35 :  metal  with Probabilities: 99.9 % (metal),  0.1 % (rock)\n"
     ]
    }
   ],
   "source": [
    "# Show the Probabilities of every prediction (two main classes):\n",
    "preds_small = []\n",
    "for i in range(len(preds)):\n",
    "    print(\"Prediction \", i,\": \", my_dict[preds[i]], \" with Probabilities: \", end=\"\")\n",
    "    first = proba[i].argmax()\n",
    "    temp = proba[i].copy()\n",
    "    temp[first] = 0\n",
    "    second = temp.argmax()\n",
    "    print(round(proba[i][first]*100,1), \"% (\" + my_dict[first] + \"), \" ,round(proba[i][second]*100,1), \"% (\" + my_dict[second] + \")\" )"
   ]
  },
  {
   "cell_type": "code",
   "execution_count": 86,
   "metadata": {},
   "outputs": [
    {
     "name": "stdout",
     "output_type": "stream",
     "text": [
      "Genres:  ['blues', 'classical', 'country', 'disco', 'hiphop', 'jazz', 'metal', 'pop', 'reggae', 'rock']\n",
      "Prediction  0 :  metal  with Probabilities: 0.0% 0.0% 0.1% 0.6% 0.5% 0.0% 96.5% 0.0% 0.0% 2.2% \n",
      "Prediction  1 :  metal  with Probabilities: 0.7% 0.0% 0.3% 2.6% 0.7% 0.0% 52.1% 0.3% 0.3% 43.1% \n",
      "Prediction  2 :  metal  with Probabilities: 0.0% 0.0% 0.2% 0.2% 0.1% 0.0% 91.4% 0.0% 0.0% 8.0% \n",
      "Prediction  3 :  metal  with Probabilities: 0.4% 0.0% 2.3% 7.8% 0.2% 0.0% 86.5% 0.0% 0.1% 2.7% \n",
      "Prediction  4 :  disco  with Probabilities: 11.1% 0.2% 23.1% 35.5% 0.1% 0.1% 16.9% 0.1% 0.2% 12.6% \n",
      "Prediction  5 :  metal  with Probabilities: 0.8% 0.0% 34.8% 2.8% 0.1% 0.0% 59.9% 0.1% 0.1% 1.4% \n",
      "Prediction  6 :  metal  with Probabilities: 1.1% 0.2% 20.7% 12.3% 0.8% 0.1% 60.7% 0.3% 0.2% 3.6% \n",
      "Prediction  7 :  metal  with Probabilities: 0.1% 0.0% 0.2% 0.2% 0.0% 0.0% 98.9% 0.0% 0.0% 0.6% \n",
      "Prediction  8 :  disco  with Probabilities: 0.4% 0.0% 13.3% 44.7% 0.1% 0.0% 7.9% 17.3% 0.1% 16.1% \n",
      "Prediction  9 :  metal  with Probabilities: 0.4% 0.1% 1.0% 13.1% 0.1% 0.0% 53.7% 2.8% 0.3% 28.5% \n",
      "Prediction  10 :  metal  with Probabilities: 0.1% 0.0% 1.1% 4.2% 0.2% 0.0% 73.3% 8.0% 0.3% 12.8% \n",
      "Prediction  11 :  metal  with Probabilities: 0.1% 0.0% 0.0% 0.1% 0.1% 0.0% 93.9% 0.0% 0.0% 5.8% \n",
      "Prediction  12 :  metal  with Probabilities: 0.2% 0.1% 0.6% 9.9% 1.3% 0.1% 59.7% 0.2% 0.2% 27.8% \n",
      "Prediction  13 :  metal  with Probabilities: 0.0% 0.0% 0.0% 0.2% 0.1% 0.0% 96.8% 0.0% 0.0% 2.9% \n",
      "Prediction  14 :  metal  with Probabilities: 0.2% 0.0% 0.5% 0.7% 0.2% 0.0% 96.5% 0.0% 0.0% 1.8% \n",
      "Prediction  15 :  metal  with Probabilities: 0.1% 0.0% 1.1% 1.6% 0.5% 0.0% 68.9% 0.0% 0.1% 27.6% \n",
      "Prediction  16 :  metal  with Probabilities: 0.1% 0.0% 0.0% 0.0% 0.0% 0.0% 99.7% 0.0% 0.0% 0.1% \n",
      "Prediction  17 :  metal  with Probabilities: 0.0% 0.0% 0.0% 0.0% 0.1% 0.0% 99.6% 0.0% 0.0% 0.3% \n",
      "Prediction  18 :  country  with Probabilities: 0.0% 0.0% 97.9% 1.6% 0.0% 0.0% 0.0% 0.0% 0.1% 0.3% \n",
      "Prediction  19 :  country  with Probabilities: 0.0% 0.0% 99.0% 0.0% 0.0% 0.0% 0.0% 0.0% 0.0% 0.9% \n",
      "Prediction  20 :  country  with Probabilities: 0.3% 0.0% 95.4% 0.0% 0.0% 0.0% 0.0% 0.0% 0.0% 4.1% \n",
      "Prediction  21 :  country  with Probabilities: 0.0% 0.0% 99.8% 0.0% 0.0% 0.0% 0.0% 0.0% 0.0% 0.2% \n",
      "Prediction  22 :  country  with Probabilities: 0.1% 0.0% 97.5% 0.0% 0.0% 0.0% 0.0% 0.0% 0.0% 2.4% \n",
      "Prediction  23 :  country  with Probabilities: 0.2% 0.0% 95.1% 4.0% 0.0% 0.0% 0.0% 0.0% 0.2% 0.5% \n",
      "Prediction  24 :  country  with Probabilities: 0.1% 0.0% 98.7% 1.2% 0.0% 0.0% 0.0% 0.0% 0.0% 0.0% \n",
      "Prediction  25 :  country  with Probabilities: 0.1% 0.0% 94.3% 4.2% 0.0% 0.0% 0.0% 0.0% 0.0% 1.2% \n",
      "Prediction  26 :  country  with Probabilities: 0.6% 0.0% 91.6% 4.2% 0.6% 0.3% 0.1% 0.1% 0.0% 2.4% \n",
      "Prediction  27 :  country  with Probabilities: 0.2% 0.0% 92.4% 1.1% 0.1% 0.0% 0.0% 0.0% 0.0% 6.2% \n",
      "Prediction  28 :  country  with Probabilities: 0.0% 0.0% 92.8% 3.9% 0.0% 0.0% 0.0% 0.0% 0.0% 3.3% \n",
      "Prediction  29 :  rock  with Probabilities: 0.6% 0.1% 0.1% 47.8% 0.4% 0.0% 0.2% 0.1% 0.2% 50.5% \n",
      "Prediction  30 :  rock  with Probabilities: 0.6% 0.0% 0.0% 0.3% 0.1% 0.0% 1.7% 0.0% 0.1% 97.2% \n",
      "Prediction  31 :  metal  with Probabilities: 0.2% 0.0% 0.2% 5.4% 1.3% 0.0% 81.4% 0.0% 0.2% 11.3% \n",
      "Prediction  32 :  metal  with Probabilities: 0.0% 0.0% 0.0% 0.0% 0.0% 0.0% 99.9% 0.0% 0.0% 0.0% \n",
      "Prediction  33 :  metal  with Probabilities: 0.0% 0.0% 0.0% 0.1% 0.0% 0.0% 98.2% 0.0% 0.0% 1.6% \n",
      "Prediction  34 :  metal  with Probabilities: 0.0% 0.0% 0.0% 0.0% 0.0% 0.0% 99.4% 0.0% 0.0% 0.5% \n",
      "Prediction  35 :  metal  with Probabilities: 0.0% 0.0% 0.0% 0.0% 0.0% 0.0% 99.9% 0.0% 0.0% 0.1% \n"
     ]
    }
   ],
   "source": [
    "# Show the Probabilities of every prediction (all classes):\n",
    "print(\"Genres: \",genres)\n",
    "for i in range(len(preds)):\n",
    "    print(\"Prediction \", i,\": \", my_dict[preds[i]], \" with Probabilities: \", end=\"\")\n",
    "    for k in range(len(proba[i])):\n",
    "        print(round(proba[i][k]*100,1), end=\"% \")\n",
    "    print(\"\")"
   ]
  },
  {
   "cell_type": "code",
   "execution_count": 92,
   "metadata": {},
   "outputs": [
    {
     "name": "stdout",
     "output_type": "stream",
     "text": [
      "36 single predictions found. Here are the Predictions grouped by Genres:\n",
      "blues: 0 (0.0%) \n",
      "classical: 0 (0.0%) \n",
      "country: 11 (30.6%) \n",
      "disco: 2 (5.6%) \n",
      "hiphop: 0 (0.0%) \n",
      "jazz: 0 (0.0%) \n",
      "metal: 21 (58.3%) \n",
      "pop: 0 (0.0%) \n",
      "reggae: 0 (0.0%) \n",
      "rock: 2 (5.6%) \n",
      "\n",
      "The most predicted genre is metal (58.3% of the samples\n"
     ]
    }
   ],
   "source": [
    "# Print Binned Statistics\n",
    "text =\"\"\n",
    "average_proba=[]\n",
    "print(repr(len(preds)) +\" single predictions found. Here are the Predictions grouped by Genres:\")\n",
    "# Print all predictions binned on the gernes\n",
    "for i in range(len(my_dict)):\n",
    "    if i<len(np.bincount(preds)):\n",
    "        text = text + my_dict[i] + \": \" + repr(np.bincount(preds)[i]) +\" (\" + repr(round(np.bincount(preds)[i]/len(preds)*100,1)) +\"%) \\n\" \n",
    "print(text)\n",
    " \n",
    " # Use the frequent value as main prediction:\n",
    "prediction=my_dict[np.bincount(preds).argmax()]\n",
    "print(\"The most predicted genre is \" + prediction + \" (\" + repr(round(np.bincount(preds)[np.bincount(preds).argmax()]/len(preds)*100,1)) + \"% of the samples)\" )"
   ]
  }
 ],
 "metadata": {
  "kernelspec": {
   "display_name": "Python 3.9.7 ('base')",
   "language": "python",
   "name": "python3"
  },
  "language_info": {
   "codemirror_mode": {
    "name": "ipython",
    "version": 3
   },
   "file_extension": ".py",
   "mimetype": "text/x-python",
   "name": "python",
   "nbconvert_exporter": "python",
   "pygments_lexer": "ipython3",
   "version": "3.9.7"
  },
  "orig_nbformat": 4,
  "vscode": {
   "interpreter": {
    "hash": "d195f4f518fafa7c8184ea2d7c215bea7f57b7952f64a0de13bdf91bd97507d2"
   }
  }
 },
 "nbformat": 4,
 "nbformat_minor": 2
}
