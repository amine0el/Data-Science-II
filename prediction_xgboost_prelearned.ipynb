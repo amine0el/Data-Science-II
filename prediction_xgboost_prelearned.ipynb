{
 "cells": [
  {
   "cell_type": "code",
   "execution_count": 1,
   "metadata": {},
   "outputs": [],
   "source": [
    "# Usual Libraries\n",
    "import pandas as pd\n",
    "import numpy as np\n",
    "\n",
    "\n",
    "# Librosa (the mother of audio files)\n",
    "import librosa\n",
    "import warnings\n",
    "warnings.filterwarnings('ignore')\n",
    "\n",
    "from xgboost import XGBClassifier"
   ]
  },
  {
   "cell_type": "code",
   "execution_count": 59,
   "metadata": {},
   "outputs": [],
   "source": [
    "genres = [\"blues\", \"classical\", \"country\", \"disco\", \"hiphop\", \"jazz\", \"metal\", \"pop\", \"reggae\", \"rock\"]\n",
    "my_dict = dict(zip(range(len(genres)),genres))\n",
    "filename = 'genres_original/jazz/jazz.00027.wav'\n",
    "filedir = 'Data/' + filename"
   ]
  },
  {
   "cell_type": "code",
   "execution_count": 60,
   "metadata": {},
   "outputs": [],
   "source": [
    "# Extract Features and saves as dataframe\n",
    "\n",
    "def extrackt(filedir, filename, genre):\n",
    "    offset = 0\n",
    "    duration=3\n",
    "    go = True\n",
    "    i=0\n",
    "    csv = []\n",
    "    length = 0\n",
    "    length_audio = librosa.get_duration(filename = filedir)\n",
    "    \n",
    "    while(go):\n",
    "        y, sr = librosa.load(filedir, offset=offset, duration=duration)\n",
    "        if (length != len(y) and length !=0) or (offset + duration) >= length_audio:\n",
    "            i=0\n",
    "            break\n",
    "        length = len(y)\n",
    "        offset += duration\n",
    "        \n",
    "        #________ chroma_stft _______\n",
    "        chroma_stft = librosa.feature.chroma_stft(y=y, sr=sr)\n",
    "        chroma_stft_mean = np.mean(chroma_stft)\n",
    "        chroma_stft_var = np.var(chroma_stft)\n",
    "        #______rms _____\n",
    "        rms =  librosa.feature.rms(y=y)\n",
    "        rms_mean = np.mean(rms)\n",
    "        rms_var = np.var(rms)\n",
    "        #______spectral_centroid _____\n",
    "        spectral_centroid = librosa.feature.spectral_centroid(y=y, sr=sr)\n",
    "        spectral_centroid_mean = np.mean(spectral_centroid)\n",
    "        spectral_centroid_var = np.var(spectral_centroid)\n",
    "        #______spectral_bandwidth______\n",
    "        spectral_bandwidth = librosa.feature.spectral_bandwidth(y=y, sr=sr)\n",
    "        spectral_bandwidth_mean = np.mean(spectral_bandwidth)\n",
    "        spectral_bandwidth_var = np.var(spectral_bandwidth)\n",
    "        #_____rolloff_______\n",
    "        rolloff = librosa.feature.spectral_rolloff(y=y, sr=sr)\n",
    "        rolloff_mean = np.mean(rolloff)\n",
    "        rolloff_var = np.var(rolloff)\n",
    "        #_____zero_crossing_rate______\n",
    "        zero_crossing_rate = librosa.feature.zero_crossing_rate(y)\n",
    "        zero_crossing_rate_mean = np.mean(zero_crossing_rate)\n",
    "        zero_crossing_rate_var = np.var(zero_crossing_rate)\n",
    "        #_____harmony_____\n",
    "        harmony = librosa.effects.harmonic(y)\n",
    "        harmony_mean = np.mean(harmony)\n",
    "        harmony_var = np.var(harmony)\n",
    "        #_____perceptr____\n",
    "        C = np.abs(librosa.cqt(y, sr=sr, fmin=librosa.note_to_hz('A1')))\n",
    "        freqs = librosa.cqt_frequencies(C.shape[0], fmin=librosa.note_to_hz('A1'))\n",
    "        perceptr = librosa.perceptual_weighting(C**2, freqs, ref=np.max)\n",
    "        perceptr_mean = np.mean(perceptr)\n",
    "        perceptr_var = np.var(perceptr)\n",
    "        #_____tempo______\n",
    "        onset_env = librosa.onset.onset_strength(y=y, sr=sr)\n",
    "        tempo = librosa.beat.tempo(onset_envelope=onset_env, sr=sr)[0]\n",
    "        #_____mfcc______\n",
    "        mfcc = librosa.feature.mfcc(y=y, sr=sr)\n",
    "        mdict = {\"name\":filename,\n",
    "                \"name_v\":filename+\".\"+str(i),\n",
    "                \"filedir\":filedir,\n",
    "                \"genre\":genre,\n",
    "                \"length\":length,\n",
    "                \"chroma_stft_mean\" : chroma_stft_mean,\n",
    "                \"chroma_stft_var\":chroma_stft_var,\n",
    "                \"rms_mean\": rms_mean,\n",
    "                \"rms_var\":rms_var,\n",
    "                \"spectral_centroid_mean\": spectral_centroid_mean,\n",
    "                \"spectral_centroid_var\" : spectral_centroid_var,\n",
    "                \"spectral_bandwidth_mean\":spectral_bandwidth_mean,\n",
    "                \"spectral_bandwidth_var\": spectral_bandwidth_var, \n",
    "                \"rolloff_mean\" : rolloff_mean,\n",
    "                \"rolloff_var\": rolloff_var ,\n",
    "                \"zero_crossing_rate_mean\" : zero_crossing_rate_mean,\n",
    "                \"zero_crossing_rate_var\":zero_crossing_rate_var,\n",
    "                \"harmony_mean\":harmony_mean,\n",
    "                \"harmony_var\":harmony_var,\n",
    "                \"perceptr_mean\":perceptr_mean,\n",
    "                \"perceptr_var\":perceptr_var,\n",
    "                \"tempo\":tempo,}\n",
    "        \n",
    "        for index, a in enumerate(mfcc, start = 1):\n",
    "            mdict[\"mfcc\"+str(index)+\"_mean\"] = np.mean(a)\n",
    "            mdict[\"mfcc\"+str(index)+\"_var\"] = np.var(a)\n",
    "            \n",
    "        csv.append(mdict)\n",
    "        i+=1\n",
    "    return csv\n",
    "    \n",
    "df = pd.DataFrame(extrackt(filedir, \"own_song\", \"unknown\"))\n",
    "data = df.iloc[0:, 4:] "
   ]
  },
  {
   "cell_type": "code",
   "execution_count": 61,
   "metadata": {},
   "outputs": [
    {
     "name": "stdout",
     "output_type": "stream",
     "text": [
      "[5 5 5 5 5 5 5 5 5 5]\n",
      "The predicted genre is:    jazz\n"
     ]
    }
   ],
   "source": [
    "# Load Final model\n",
    "from sklearn import preprocessing\n",
    "\n",
    "#Prediction of first line\n",
    "xgb = XGBClassifier()\n",
    "xgb.load_model(\"xgb_model.txt\")\n",
    "preds = xgb.predict(data)\n",
    "print(preds)\n",
    " # Use frequent value\n",
    "prediction=my_dict[np.bincount(preds).argmax()]\n",
    "\n",
    "print(\"The predicted genre is:    \" + prediction)"
   ]
  }
 ],
 "metadata": {
  "kernelspec": {
   "display_name": "Python 3.9.7 ('base')",
   "language": "python",
   "name": "python3"
  },
  "language_info": {
   "codemirror_mode": {
    "name": "ipython",
    "version": 3
   },
   "file_extension": ".py",
   "mimetype": "text/x-python",
   "name": "python",
   "nbconvert_exporter": "python",
   "pygments_lexer": "ipython3",
   "version": "3.9.7"
  },
  "orig_nbformat": 4,
  "vscode": {
   "interpreter": {
    "hash": "d195f4f518fafa7c8184ea2d7c215bea7f57b7952f64a0de13bdf91bd97507d2"
   }
  }
 },
 "nbformat": 4,
 "nbformat_minor": 2
}
